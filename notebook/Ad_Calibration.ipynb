{
 "cells": [
  {
   "cell_type": "markdown",
   "metadata": {
    "id": "zWDqCB6G6O4h"
   },
   "source": [
    "## Key Points in Ad Recommendation\n",
    "- The number of candidates may not be very large.  \n",
    "- CTR is important, but not only the ranking stage matters.  \n",
    "- Ads can be ordered by **CTR prediction × bid price**.  \n",
    "- In traditional ranking, only the order matters rather than the exact CTR values.  \n",
    "  - For example, [0.9, 0.2, 0.1] vs. [0.6, 0.5, 0.4] does not make a difference as long as the order is preserved.  \n",
    "- However, in advertising, it is also critical to **predict CTR accurately**, not just preserve ordering, since costs are tied to predictions.  "
   ]
  },
  {
   "cell_type": "code",
   "execution_count": null,
   "metadata": {
    "colab": {
     "base_uri": "https://localhost:8080/"
    },
    "executionInfo": {
     "elapsed": 4746,
     "status": "ok",
     "timestamp": 1687682713594,
     "user": {
      "displayName": "Tae Oh Kim",
      "userId": "13246201434683004107"
     },
     "user_tz": -540
    },
    "id": "wjZIqBTD6Hle",
    "outputId": "b01b9ce9-51c4-4222-8df3-58a5e6ff71a8"
   },
   "outputs": [],
   "source": [
    "!pip install tensorflow-recommenders"
   ]
  },
  {
   "cell_type": "code",
   "execution_count": null,
   "metadata": {
    "colab": {
     "base_uri": "https://localhost:8080/"
    },
    "executionInfo": {
     "elapsed": 2330,
     "status": "ok",
     "timestamp": 1687682715915,
     "user": {
      "displayName": "Tae Oh Kim",
      "userId": "13246201434683004107"
     },
     "user_tz": -540
    },
    "id": "jwHnSo0b6Y_q",
    "outputId": "476bcb24-fcc5-4e2c-bff9-8d8a89d3a7f3"
   },
   "outputs": [],
   "source": [
    "import pandas as pd\n",
    "\n",
    "rootpath = \"/Users/teo/Desktop/AdRecommendationUplift/KuaiRec/data/\"\n",
    "\n",
    "# Load main interactions\n",
    "df = pd.read_csv(rootpath + \"big_matrix.csv\", low_memory=False)\n",
    "\n",
    "# Create is_viewed from watch_ratio\n",
    "df[\"is_viewed\"] = (df[\"watch_ratio\"] > 1).astype(int)\n",
    "\n",
    "# Convert date column (YYYYMMDD → YYYY-MM-DD)\n",
    "df[\"date\"] = pd.to_datetime(df[\"date\"].astype(str), format=\"%Y%m%d\").dt.strftime(\"%Y-%m-%d\")\n",
    "\n",
    "# Keep only 4 columns\n",
    "dataset = df[[\"user_id\", \"video_id\", \"date\", \"is_viewed\"]].copy()\n",
    "\n",
    "print(dataset.head())\n",
    "print(dataset.shape)"
   ]
  },
  {
   "cell_type": "code",
   "execution_count": 5,
   "metadata": {
    "executionInfo": {
     "elapsed": 1732,
     "status": "ok",
     "timestamp": 1687682725638,
     "user": {
      "displayName": "Tae Oh Kim",
      "userId": "13246201434683004107"
     },
     "user_tz": -540
    },
    "id": "5s_G7jnl6YCj"
   },
   "outputs": [],
   "source": [
    "import pandas as pd"
   ]
  },
  {
   "cell_type": "code",
   "execution_count": 6,
   "metadata": {
    "colab": {
     "base_uri": "https://localhost:8080/",
     "height": 424
    },
    "executionInfo": {
     "elapsed": 4904,
     "status": "ok",
     "timestamp": 1687682747443,
     "user": {
      "displayName": "Tae Oh Kim",
      "userId": "13246201434683004107"
     },
     "user_tz": -540
    },
    "id": "AqYQSmJ06tJG",
    "outputId": "4fbb65fc-acdc-47df-cc54-e8585ab9ed6c"
   },
   "outputs": [
    {
     "data": {
      "text/html": [
       "\n",
       "  <div id=\"df-f2662a25-f69f-4337-949a-348b122eba43\">\n",
       "    <div class=\"colab-df-container\">\n",
       "      <div>\n",
       "<style scoped>\n",
       "    .dataframe tbody tr th:only-of-type {\n",
       "        vertical-align: middle;\n",
       "    }\n",
       "\n",
       "    .dataframe tbody tr th {\n",
       "        vertical-align: top;\n",
       "    }\n",
       "\n",
       "    .dataframe thead th {\n",
       "        text-align: right;\n",
       "    }\n",
       "</style>\n",
       "<table border=\"1\" class=\"dataframe\">\n",
       "  <thead>\n",
       "    <tr style=\"text-align: right;\">\n",
       "      <th></th>\n",
       "      <th>user_id</th>\n",
       "      <th>video_id</th>\n",
       "      <th>date</th>\n",
       "      <th>is_viewed</th>\n",
       "    </tr>\n",
       "  </thead>\n",
       "  <tbody>\n",
       "    <tr>\n",
       "      <th>0</th>\n",
       "      <td>14</td>\n",
       "      <td>148</td>\n",
       "      <td>2020-07-05</td>\n",
       "      <td>0</td>\n",
       "    </tr>\n",
       "    <tr>\n",
       "      <th>1</th>\n",
       "      <td>14</td>\n",
       "      <td>183</td>\n",
       "      <td>2020-07-05</td>\n",
       "      <td>1</td>\n",
       "    </tr>\n",
       "    <tr>\n",
       "      <th>2</th>\n",
       "      <td>14</td>\n",
       "      <td>3649</td>\n",
       "      <td>2020-07-05</td>\n",
       "      <td>1</td>\n",
       "    </tr>\n",
       "    <tr>\n",
       "      <th>3</th>\n",
       "      <td>14</td>\n",
       "      <td>5262</td>\n",
       "      <td>2020-07-05</td>\n",
       "      <td>0</td>\n",
       "    </tr>\n",
       "    <tr>\n",
       "      <th>4</th>\n",
       "      <td>14</td>\n",
       "      <td>8234</td>\n",
       "      <td>2020-07-05</td>\n",
       "      <td>0</td>\n",
       "    </tr>\n",
       "    <tr>\n",
       "      <th>...</th>\n",
       "      <td>...</td>\n",
       "      <td>...</td>\n",
       "      <td>...</td>\n",
       "      <td>...</td>\n",
       "    </tr>\n",
       "    <tr>\n",
       "      <th>4676370</th>\n",
       "      <td>7162</td>\n",
       "      <td>9177</td>\n",
       "      <td>2020-09-01</td>\n",
       "      <td>0</td>\n",
       "    </tr>\n",
       "    <tr>\n",
       "      <th>4676371</th>\n",
       "      <td>7162</td>\n",
       "      <td>4987</td>\n",
       "      <td>2020-09-02</td>\n",
       "      <td>1</td>\n",
       "    </tr>\n",
       "    <tr>\n",
       "      <th>4676372</th>\n",
       "      <td>7162</td>\n",
       "      <td>7988</td>\n",
       "      <td>2020-09-03</td>\n",
       "      <td>1</td>\n",
       "    </tr>\n",
       "    <tr>\n",
       "      <th>4676373</th>\n",
       "      <td>7162</td>\n",
       "      <td>6533</td>\n",
       "      <td>2020-09-04</td>\n",
       "      <td>0</td>\n",
       "    </tr>\n",
       "    <tr>\n",
       "      <th>4676374</th>\n",
       "      <td>7162</td>\n",
       "      <td>6523</td>\n",
       "      <td>2020-09-05</td>\n",
       "      <td>1</td>\n",
       "    </tr>\n",
       "  </tbody>\n",
       "</table>\n",
       "<p>4494578 rows × 4 columns</p>\n",
       "</div>\n",
       "      <button class=\"colab-df-convert\" onclick=\"convertToInteractive('df-f2662a25-f69f-4337-949a-348b122eba43')\"\n",
       "              title=\"Convert this dataframe to an interactive table.\"\n",
       "              style=\"display:none;\">\n",
       "        \n",
       "  <svg xmlns=\"http://www.w3.org/2000/svg\" height=\"24px\"viewBox=\"0 0 24 24\"\n",
       "       width=\"24px\">\n",
       "    <path d=\"M0 0h24v24H0V0z\" fill=\"none\"/>\n",
       "    <path d=\"M18.56 5.44l.94 2.06.94-2.06 2.06-.94-2.06-.94-.94-2.06-.94 2.06-2.06.94zm-11 1L8.5 8.5l.94-2.06 2.06-.94-2.06-.94L8.5 2.5l-.94 2.06-2.06.94zm10 10l.94 2.06.94-2.06 2.06-.94-2.06-.94-.94-2.06-.94 2.06-2.06.94z\"/><path d=\"M17.41 7.96l-1.37-1.37c-.4-.4-.92-.59-1.43-.59-.52 0-1.04.2-1.43.59L10.3 9.45l-7.72 7.72c-.78.78-.78 2.05 0 2.83L4 21.41c.39.39.9.59 1.41.59.51 0 1.02-.2 1.41-.59l7.78-7.78 2.81-2.81c.8-.78.8-2.07 0-2.86zM5.41 20L4 18.59l7.72-7.72 1.47 1.35L5.41 20z\"/>\n",
       "  </svg>\n",
       "      </button>\n",
       "      \n",
       "  <style>\n",
       "    .colab-df-container {\n",
       "      display:flex;\n",
       "      flex-wrap:wrap;\n",
       "      gap: 12px;\n",
       "    }\n",
       "\n",
       "    .colab-df-convert {\n",
       "      background-color: #E8F0FE;\n",
       "      border: none;\n",
       "      border-radius: 50%;\n",
       "      cursor: pointer;\n",
       "      display: none;\n",
       "      fill: #1967D2;\n",
       "      height: 32px;\n",
       "      padding: 0 0 0 0;\n",
       "      width: 32px;\n",
       "    }\n",
       "\n",
       "    .colab-df-convert:hover {\n",
       "      background-color: #E2EBFA;\n",
       "      box-shadow: 0px 1px 2px rgba(60, 64, 67, 0.3), 0px 1px 3px 1px rgba(60, 64, 67, 0.15);\n",
       "      fill: #174EA6;\n",
       "    }\n",
       "\n",
       "    [theme=dark] .colab-df-convert {\n",
       "      background-color: #3B4455;\n",
       "      fill: #D2E3FC;\n",
       "    }\n",
       "\n",
       "    [theme=dark] .colab-df-convert:hover {\n",
       "      background-color: #434B5C;\n",
       "      box-shadow: 0px 1px 3px 1px rgba(0, 0, 0, 0.15);\n",
       "      filter: drop-shadow(0px 1px 2px rgba(0, 0, 0, 0.3));\n",
       "      fill: #FFFFFF;\n",
       "    }\n",
       "  </style>\n",
       "\n",
       "      <script>\n",
       "        const buttonEl =\n",
       "          document.querySelector('#df-f2662a25-f69f-4337-949a-348b122eba43 button.colab-df-convert');\n",
       "        buttonEl.style.display =\n",
       "          google.colab.kernel.accessAllowed ? 'block' : 'none';\n",
       "\n",
       "        async function convertToInteractive(key) {\n",
       "          const element = document.querySelector('#df-f2662a25-f69f-4337-949a-348b122eba43');\n",
       "          const dataTable =\n",
       "            await google.colab.kernel.invokeFunction('convertToInteractive',\n",
       "                                                     [key], {});\n",
       "          if (!dataTable) return;\n",
       "\n",
       "          const docLinkHtml = 'Like what you see? Visit the ' +\n",
       "            '<a target=\"_blank\" href=https://colab.research.google.com/notebooks/data_table.ipynb>data table notebook</a>'\n",
       "            + ' to learn more about interactive tables.';\n",
       "          element.innerHTML = '';\n",
       "          dataTable['output_type'] = 'display_data';\n",
       "          await google.colab.output.renderOutput(dataTable, element);\n",
       "          const docLink = document.createElement('div');\n",
       "          docLink.innerHTML = docLinkHtml;\n",
       "          element.appendChild(docLink);\n",
       "        }\n",
       "      </script>\n",
       "    </div>\n",
       "  </div>\n",
       "  "
      ],
      "text/plain": [
       "         user_id  video_id       date  is_viewed\n",
       "0             14       148 2020-07-05          0\n",
       "1             14       183 2020-07-05          1\n",
       "2             14      3649 2020-07-05          1\n",
       "3             14      5262 2020-07-05          0\n",
       "4             14      8234 2020-07-05          0\n",
       "...          ...       ...        ...        ...\n",
       "4676370     7162      9177 2020-09-01          0\n",
       "4676371     7162      4987 2020-09-02          1\n",
       "4676372     7162      7988 2020-09-03          1\n",
       "4676373     7162      6533 2020-09-04          0\n",
       "4676374     7162      6523 2020-09-05          1\n",
       "\n",
       "[4494578 rows x 4 columns]"
      ]
     },
     "execution_count": 6,
     "metadata": {},
     "output_type": "execute_result"
    }
   ],
   "source": [
    "dataset = pd.read_parquet(rootpath + 'labels.parquet')\n",
    "dataset['is_viewed'] = dataset['watch_ratio'] > 1\n",
    "dataset['is_viewed'] = dataset['is_viewed'].replace({True: 1, False: 0})\n",
    "dataset.drop('watch_ratio', axis = 1)"
   ]
  },
  {
   "cell_type": "code",
   "execution_count": null,
   "metadata": {
    "executionInfo": {
     "elapsed": 23131,
     "status": "ok",
     "timestamp": 1687682781539,
     "user": {
      "displayName": "Tae Oh Kim",
      "userId": "13246201434683004107"
     },
     "user_tz": -540
    },
    "id": "LE0jT-Yu6ux-"
   },
   "outputs": [],
   "source": [
    "item_features = pd.read_parquet(rootpath + 'item_features.parquet')\n",
    "dataset_with_item_features = pd.merge(left=dataset, right=item_features, how='left', on=['video_id', 'date'])\n",
    "user_features = pd.read_parquet(rootpath + 'user_features.parquet')\n",
    "dataset_full = pd.merge(left=dataset_with_item_features, right=user_features, how='left', on='user_id')\n",
    "train_data = dataset_full[dataset_full.date < '2020-08-20'].drop(columns=['date']).dropna().sample(frac=0.1) \n",
    "test_data = dataset_full[dataset_full.date >= '2020-08-20'].drop(columns=['date']).dropna().sample(frac=0.1)"
   ]
  },
  {
   "cell_type": "markdown",
   "metadata": {
    "id": "xK7oRKZq7Ebd"
   },
   "source": [
    "---\n",
    "## Video Ads\n",
    "\n",
    "### Data Synthesis\n",
    "- Calculated the ratio of ad clicks (Click-through Rate, CTR)\n"
   ]
  },
  {
   "cell_type": "code",
   "execution_count": 8,
   "metadata": {
    "colab": {
     "base_uri": "https://localhost:8080/"
    },
    "executionInfo": {
     "elapsed": 548,
     "status": "ok",
     "timestamp": 1687682789273,
     "user": {
      "displayName": "Tae Oh Kim",
      "userId": "13246201434683004107"
     },
     "user_tz": -540
    },
    "id": "5vlBpFKlMq5n",
    "outputId": "65107bf6-4f62-4e17-bcfc-badf35918e82"
   },
   "outputs": [
    {
     "data": {
      "text/plain": [
       "0    3023039\n",
       "1    1471539\n",
       "Name: is_viewed, dtype: int64"
      ]
     },
     "execution_count": 8,
     "metadata": {},
     "output_type": "execute_result"
    }
   ],
   "source": [
    "dataset['is_viewed'].value_counts()"
   ]
  },
  {
   "cell_type": "markdown",
   "metadata": {
    "id": "4KIkqPxD-iOT"
   },
   "source": [
    "- Downsample negative data in the training set.  \n",
    "- Keep the original ratio in the test set since it will be used for calibration.  "
   ]
  },
  {
   "cell_type": "code",
   "execution_count": 9,
   "metadata": {
    "executionInfo": {
     "elapsed": 669,
     "status": "ok",
     "timestamp": 1687682825842,
     "user": {
      "displayName": "Tae Oh Kim",
      "userId": "13246201434683004107"
     },
     "user_tz": -540
    },
    "id": "pqgbaJ-r9i9n"
   },
   "outputs": [],
   "source": [
    "positive_train = train_data[train_data.is_viewed == 1]\n",
    "negative_train = train_data[train_data.is_viewed == 0]\n",
    "sampled_negative_train = negative_train.sample(frac=0.5)"
   ]
  },
  {
   "cell_type": "code",
   "execution_count": 10,
   "metadata": {
    "executionInfo": {
     "elapsed": 552,
     "status": "ok",
     "timestamp": 1687682834867,
     "user": {
      "displayName": "Tae Oh Kim",
      "userId": "13246201434683004107"
     },
     "user_tz": -540
    },
    "id": "1q8eo4uO-85X"
   },
   "outputs": [],
   "source": [
    "train = pd.concat([positive_train, sampled_negative_train], axis=0)"
   ]
  },
  {
   "cell_type": "code",
   "execution_count": 11,
   "metadata": {
    "colab": {
     "base_uri": "https://localhost:8080/"
    },
    "executionInfo": {
     "elapsed": 514,
     "status": "ok",
     "timestamp": 1687682837670,
     "user": {
      "displayName": "Tae Oh Kim",
      "userId": "13246201434683004107"
     },
     "user_tz": -540
    },
    "id": "myL7CzMsfSg_",
    "outputId": "6c914daa-f293-4bdd-a71d-1e266f528581"
   },
   "outputs": [
    {
     "data": {
      "text/plain": [
       "1    122861\n",
       "0    118474\n",
       "Name: is_viewed, dtype: int64"
      ]
     },
     "execution_count": 11,
     "metadata": {},
     "output_type": "execute_result"
    }
   ],
   "source": [
    "train['is_viewed'].value_counts()"
   ]
  },
  {
   "cell_type": "code",
   "execution_count": 13,
   "metadata": {
    "executionInfo": {
     "elapsed": 5482,
     "status": "ok",
     "timestamp": 1687682879029,
     "user": {
      "displayName": "Tae Oh Kim",
      "userId": "13246201434683004107"
     },
     "user_tz": -540
    },
    "id": "HAC5Iw-SvOC-"
   },
   "outputs": [],
   "source": [
    "import tensorflow as tf"
   ]
  },
  {
   "cell_type": "code",
   "execution_count": null,
   "metadata": {
    "executionInfo": {
     "elapsed": 1,
     "status": "ok",
     "timestamp": 1687682884022,
     "user": {
      "displayName": "Tae Oh Kim",
      "userId": "13246201434683004107"
     },
     "user_tz": -540
    },
    "id": "trqFfy-9-_3h"
   },
   "outputs": [],
   "source": [
    "import tensorflow_recommenders as tfrs\n",
    "import tensorflow as tf"
   ]
  },
  {
   "cell_type": "code",
   "execution_count": 16,
   "metadata": {
    "executionInfo": {
     "elapsed": 369,
     "status": "ok",
     "timestamp": 1687682884913,
     "user": {
      "displayName": "Tae Oh Kim",
      "userId": "13246201434683004107"
     },
     "user_tz": -540
    },
    "id": "0L91vTwMNifP"
   },
   "outputs": [],
   "source": [
    "data = tf.data.Dataset.from_tensor_slices(dict(train))"
   ]
  },
  {
   "cell_type": "code",
   "execution_count": 17,
   "metadata": {
    "executionInfo": {
     "elapsed": 407,
     "status": "ok",
     "timestamp": 1687682893169,
     "user": {
      "displayName": "Tae Oh Kim",
      "userId": "13246201434683004107"
     },
     "user_tz": -540
    },
    "id": "ZmShQD57NaG3"
   },
   "outputs": [],
   "source": [
    "item_continual_features = [\n",
    "    'video_duration',\n",
    "    'show_cnt',\n",
    "    'show_user_num',\n",
    "    'play_cnt',\n",
    "    'play_user_num',\n",
    "    'show_cnt_7D',\n",
    "    'show_cnt_14D',\n",
    "    'show_user_num_7D',\n",
    "    'show_user_num_14D',\n",
    "    'play_cnt_7D',\n",
    "    'play_cnt_14D',\n",
    "    'play_user_num_7D',\n",
    "    'play_user_num_14D',\n",
    "]\n",
    "item_int_cate_features = [\n",
    "    'video_id',\n",
    "    'video_width',\n",
    "    'video_height',\n",
    "    'video_tag_id',\n",
    "]\n",
    "item_string_cate_features = [\n",
    "    'video_type'\n",
    "]\n",
    "user_continual_features = [\n",
    "    'follow_user_num',\n",
    "    'fans_user_num',\n",
    "    'friend_user_num',\n",
    "    'register_days',\n",
    "]\n",
    "user_int_cate_features = [\n",
    "    'user_id',\n",
    "    'is_lowactive_period',\n",
    "    'is_live_streamer',\n",
    "    'is_video_author',\n",
    "    'onehot_feat0',\n",
    "    'onehot_feat1',\n",
    "    'onehot_feat2',\n",
    "    'onehot_feat3',\n",
    "    'onehot_feat4',\n",
    "    'onehot_feat5',\n",
    "    'onehot_feat6',\n",
    "    'onehot_feat7',\n",
    "    'onehot_feat8',\n",
    "    'onehot_feat9',\n",
    "    'onehot_feat10',\n",
    "    'onehot_feat11',\n",
    "    'onehot_feat12',\n",
    "    'onehot_feat13',\n",
    "    'onehot_feat14',\n",
    "    'onehot_feat15',\n",
    "    'onehot_feat16',\n",
    "    'onehot_feat17',\n",
    "]\n",
    "user_string_cate_features = [\n",
    "    'user_active_degree',\n",
    "    'follow_user_num_range',\n",
    "    'fans_user_num_range',\n",
    "    'friend_user_num_range',\n",
    "    'register_days_range',\n",
    "\n",
    "]\n",
    "user_features = user_continual_features + user_int_cate_features + user_string_cate_features\n",
    "item_features = item_continual_features + item_int_cate_features + item_string_cate_features\n",
    "label = 'is_viewed'"
   ]
  },
  {
   "cell_type": "code",
   "execution_count": null,
   "metadata": {
    "executionInfo": {
     "elapsed": 486,
     "status": "ok",
     "timestamp": 1687682895118,
     "user": {
      "displayName": "Tae Oh Kim",
      "userId": "13246201434683004107"
     },
     "user_tz": -540
    },
    "id": "e-GNNJRaN9CH"
   },
   "outputs": [],
   "source": [
    "item_int_vocabs = {x: train_data[x].unique() for x in item_int_cate_features} \n",
    "item_str_vocabs = {x: train_data[x].unique() for x in item_string_cate_features} \n",
    "item_statistics = {x: (train_data[x].mean(), train_data[x].var()) for x in item_continual_features}\n",
    "user_int_vocabs = {x: train_data[x].unique() for x in user_int_cate_features}\n",
    "user_str_vocabs = {x: train_data[x].unique() for x in user_string_cate_features}\n",
    "user_statistics = {x: (train_data[x].mean(), train_data[x].var()) for x in user_continual_features}"
   ]
  },
  {
   "cell_type": "code",
   "execution_count": null,
   "metadata": {
    "executionInfo": {
     "elapsed": 397,
     "status": "ok",
     "timestamp": 1687683137903,
     "user": {
      "displayName": "Tae Oh Kim",
      "userId": "13246201434683004107"
     },
     "user_tz": -540
    },
    "id": "2g8fOEzwOE4d"
   },
   "outputs": [],
   "source": [
    "class RepresentLayer(tf.keras.layers.Layer):\n",
    "    def __init__(self, item_int_vocabs, item_str_vocabs, item_statistics):\n",
    "        super().__init__()\n",
    "        self.int_cate_cols = item_int_vocabs.keys()\n",
    "        self.str_cate_cols = item_str_vocabs.keys()\n",
    "        self.conti_cols = item_statistics.keys()\n",
    "\n",
    "        self.concat = tf.keras.layers.Concatenate()\n",
    "\n",
    "\n",
    "        self.int_representation_layer = self.create_int_representation_layer(item_int_vocabs)\n",
    "        self.str_representation_layer = self.create_str_representation_layer(item_str_vocabs)\n",
    "        self.conti_representation_layer = self.create_conti_representation_layer(item_statistics)\n",
    "\n",
    "\n",
    "    def create_int_representation_layer(self, item_int_vocabs):\n",
    "        inputs = [tf.keras.Input(shape=(), name=col, dtype=tf.int64) for col in self.int_cate_cols]\n",
    "        outputs = []\n",
    "        for x in inputs:\n",
    "            vocab = item_int_vocabs[x.name]\n",
    "            vocab_num = vocab.size\n",
    "            lookup = tf.keras.layers.IntegerLookup(vocabulary=item_int_vocabs[x.name])(x)\n",
    "            embeddings = tf.keras.layers.Embedding(vocab_num + 1, 8)(lookup)\n",
    "            outputs.append(embeddings)\n",
    "        concat = tf.keras.layers.Concatenate()(outputs)\n",
    "        return tf.keras.Model(inputs, concat) # inputs\n",
    "\n",
    "    def create_str_representation_layer(self, item_str_vocabs):\n",
    "        inputs = [tf.keras.Input(shape=(), name=col, dtype=tf.string) for col in self.str_cate_cols]\n",
    "        outputs = []\n",
    "        for x in inputs:\n",
    "            vocab = item_str_vocabs[x.name]\n",
    "            vocab_num = vocab.size\n",
    "            lookup = tf.keras.layers.StringLookup(vocabulary=item_str_vocabs[x.name])(x)\n",
    "            embeddings = tf.keras.layers.Embedding(vocab_num + 1, 8)(lookup)\n",
    "            outputs.append(embeddings)\n",
    "        concat = tf.keras.layers.Concatenate()(outputs)\n",
    "        return tf.keras.Model(inputs, concat)\n",
    "\n",
    "    def create_conti_representation_layer(self, item_statistics):\n",
    "        inputs = [tf.keras.Input(shape=(), name=col, dtype=tf.float32) for col in self.conti_cols]\n",
    "        outputs = []\n",
    "        for x in inputs:\n",
    "            mean, var = item_statistics[x.name]\n",
    "            normalized = tf.keras.layers.Normalization(axis=-1, mean=mean, variance=var)(tf.expand_dims(x, axis=1))\n",
    "            outputs.append(normalized)\n",
    "        concat = tf.keras.layers.Concatenate()(outputs)\n",
    "        return tf.keras.Model(inputs, concat)\n",
    "\n",
    "\n",
    "    def call(self, inputs):\n",
    "\n",
    "        x_conti = self.conti_representation_layer({\n",
    "            key: inputs[key]\n",
    "            for key in self.conti_cols\n",
    "        })\n",
    "        x_int_cate = self.int_representation_layer({\n",
    "            key: inputs[key]\n",
    "            for key in self.int_cate_cols\n",
    "        })\n",
    "        x_str_cate = self.str_representation_layer({\n",
    "            key: inputs[key]\n",
    "            for key in self.str_cate_cols\n",
    "        })\n",
    "\n",
    "\n",
    "        return tf.concat([x_conti, x_int_cate, x_str_cate], axis=-1)"
   ]
  },
  {
   "cell_type": "code",
   "execution_count": 21,
   "metadata": {
    "executionInfo": {
     "elapsed": 1,
     "status": "ok",
     "timestamp": 1687683139347,
     "user": {
      "displayName": "Tae Oh Kim",
      "userId": "13246201434683004107"
     },
     "user_tz": -540
    },
    "id": "PvjTaxJ6OEwr"
   },
   "outputs": [],
   "source": [
    "class RankingModel(tfrs.models.Model):\n",
    "\n",
    "  def __init__(self, item_int_vocabs, item_str_vocabs, item_statistics,\n",
    "               user_int_vocabs, user_str_vocabs, user_statistics,\n",
    "               user_features, item_features):\n",
    "    super().__init__()\n",
    "    self.candidate_model = RepresentLayer(item_int_vocabs, item_str_vocabs, item_statistics)\n",
    "    self.query_model = RepresentLayer(user_int_vocabs, user_str_vocabs, user_statistics)\n",
    "    self.user_features = user_features\n",
    "    self.item_features = item_features\n",
    "    self._cross_layer = tfrs.layers.dcn.Cross(\n",
    "          projection_dim=32,\n",
    "          kernel_initializer=\"glorot_uniform\")\n",
    "    self.batchnorm1 = tf.keras.layers.BatchNormalization()\n",
    "    self.dense1 = tf.keras.layers.Dense(units=64, activation='relu')\n",
    "    self.batchnorm2 = tf.keras.layers.BatchNormalization()\n",
    "    self.dense2 = tf.keras.layers.Dense(units=32, activation='relu')\n",
    "    self.dropout2 = tf.keras.layers.Dropout(0.1)\n",
    "\n",
    "    self.final = tf.keras.layers.Dense(1)\n",
    "\n",
    "    self.task = tfrs.tasks.Ranking(loss=tf.keras.losses.BinaryCrossentropy(from_logits=True),\n",
    "                                       metrics=[tf.keras.metrics.AUC(name='prc', curve='PR')])\n",
    "\n",
    "  def call(self, features, train=False) -> tf.Tensor:\n",
    "    query_embeddings = self.query_model({\n",
    "        key: features[key]\n",
    "        for key, val in features.items()\n",
    "        if key in self.user_features\n",
    "    })\n",
    "    item_embeddings = self.candidate_model({\n",
    "        key: features[key]\n",
    "        for key, val in features.items()\n",
    "        if key in self.item_features\n",
    "    })\n",
    "    x = tf.concat([query_embeddings, item_embeddings], axis=-1)\n",
    "    cross = self._cross_layer(x)\n",
    "    x1 = self.dense1(self.batchnorm1(cross))\n",
    "    x2 = self.dense2(self.batchnorm2(x1))\n",
    "    logit = self.final(x2)\n",
    "    if train:\n",
    "        logit\n",
    "    return tf.sigmoid(logit)\n",
    "\n",
    "  def compute_loss(self, features, training=False) -> tf.Tensor:\n",
    "    labels = features.pop(\"is_viewed\")\n",
    "\n",
    "    pred = self(features, training)\n",
    "\n",
    "    # The task computes the loss and the metrics.\n",
    "    return self.task(labels=labels, predictions=pred)\n"
   ]
  },
  {
   "cell_type": "code",
   "execution_count": null,
   "metadata": {
    "executionInfo": {
     "elapsed": 387,
     "status": "ok",
     "timestamp": 1687683204870,
     "user": {
      "displayName": "Tae Oh Kim",
      "userId": "13246201434683004107"
     },
     "user_tz": -540
    },
    "id": "Fa9PjYcfCAbG"
   },
   "outputs": [],
   "source": [
    "cached_train = (\n",
    "    data.map(lambda x: {\n",
    "        key: tf.cast(value, tf.float32)\n",
    "        if key in item_continual_features + user_continual_features + [label] else value\n",
    "        for key, value\n",
    "        in x.items()\n",
    "    })\n",
    "    .shuffle(300_000).batch(512).cache() \n",
    ")"
   ]
  },
  {
   "cell_type": "code",
   "execution_count": 23,
   "metadata": {
    "executionInfo": {
     "elapsed": 1105,
     "status": "ok",
     "timestamp": 1687683208243,
     "user": {
      "displayName": "Tae Oh Kim",
      "userId": "13246201434683004107"
     },
     "user_tz": -540
    },
    "id": "gqb-p5yzCMRL"
   },
   "outputs": [],
   "source": [
    "model = RankingModel(item_int_vocabs, item_str_vocabs, item_statistics,\n",
    "                      user_int_vocabs, user_str_vocabs, user_statistics,\n",
    "                      user_features, item_features)"
   ]
  },
  {
   "cell_type": "code",
   "execution_count": 24,
   "metadata": {
    "executionInfo": {
     "elapsed": 3,
     "status": "ok",
     "timestamp": 1687683210455,
     "user": {
      "displayName": "Tae Oh Kim",
      "userId": "13246201434683004107"
     },
     "user_tz": -540
    },
    "id": "x2aMTOp4CP4I"
   },
   "outputs": [],
   "source": [
    "model.compile(optimizer='adam')"
   ]
  },
  {
   "cell_type": "code",
   "execution_count": 25,
   "metadata": {
    "colab": {
     "base_uri": "https://localhost:8080/"
    },
    "executionInfo": {
     "elapsed": 148171,
     "status": "ok",
     "timestamp": 1687683361956,
     "user": {
      "displayName": "Tae Oh Kim",
      "userId": "13246201434683004107"
     },
     "user_tz": -540
    },
    "id": "upMGURbtCXnz",
    "outputId": "590903d1-05ae-4d3f-a327-64f0e7c29cb4"
   },
   "outputs": [
    {
     "name": "stdout",
     "output_type": "stream",
     "text": [
      "472/472 [==============================] - 134s 164ms/step - prc: 0.7591 - loss: 0.6338 - regularization_loss: 0.0000e+00 - total_loss: 0.6338\n"
     ]
    }
   ],
   "source": [
    "ranking_history = model.fit(\n",
    "    cached_train,\n",
    "    epochs=1,\n",
    "    verbose=1)"
   ]
  },
  {
   "cell_type": "code",
   "execution_count": 26,
   "metadata": {
    "executionInfo": {
     "elapsed": 417,
     "status": "ok",
     "timestamp": 1687683533383,
     "user": {
      "displayName": "Tae Oh Kim",
      "userId": "13246201434683004107"
     },
     "user_tz": -540
    },
    "id": "7Od37IaGDi1L"
   },
   "outputs": [],
   "source": [
    "test_ds = (\n",
    "    tf.data.Dataset.from_tensor_slices(dict(test_data))\n",
    "        .map(lambda x: {\n",
    "                key: tf.cast(value, tf.float32)\n",
    "                if key in item_continual_features + user_continual_features + [label] else value\n",
    "                for key, value\n",
    "                in x.items()\n",
    "        })\n",
    "        .batch(512)\n",
    "        .cache()\n",
    ")"
   ]
  },
  {
   "cell_type": "code",
   "execution_count": 27,
   "metadata": {
    "colab": {
     "base_uri": "https://localhost:8080/"
    },
    "executionInfo": {
     "elapsed": 11018,
     "status": "ok",
     "timestamp": 1687683546250,
     "user": {
      "displayName": "Tae Oh Kim",
      "userId": "13246201434683004107"
     },
     "user_tz": -540
    },
    "id": "xZggSfxzCYzX",
    "outputId": "ae5b3f8d-6f58-4dee-bf67-bb2cd4e55fdb"
   },
   "outputs": [
    {
     "name": "stdout",
     "output_type": "stream",
     "text": [
      "97/97 [==============================] - 8s 75ms/step\n"
     ]
    }
   ],
   "source": [
    "predictions = model.predict(test_ds)"
   ]
  },
  {
   "cell_type": "code",
   "execution_count": 28,
   "metadata": {
    "executionInfo": {
     "elapsed": 3,
     "status": "ok",
     "timestamp": 1687683547924,
     "user": {
      "displayName": "Tae Oh Kim",
      "userId": "13246201434683004107"
     },
     "user_tz": -540
    },
    "id": "FdcFNi87Drni"
   },
   "outputs": [],
   "source": [
    "test_data['prediction'] = predictions"
   ]
  },
  {
   "cell_type": "code",
   "execution_count": 29,
   "metadata": {
    "colab": {
     "base_uri": "https://localhost:8080/",
     "height": 424
    },
    "executionInfo": {
     "elapsed": 6,
     "status": "ok",
     "timestamp": 1687683549267,
     "user": {
      "displayName": "Tae Oh Kim",
      "userId": "13246201434683004107"
     },
     "user_tz": -540
    },
    "id": "7tDTgZAxHR7b",
    "outputId": "9c010eb2-435c-4c36-d0f0-9204cd5b043f"
   },
   "outputs": [
    {
     "data": {
      "text/html": [
       "\n",
       "  <div id=\"df-2624ef5c-447d-4890-9d10-b007f57d997c\">\n",
       "    <div class=\"colab-df-container\">\n",
       "      <div>\n",
       "<style scoped>\n",
       "    .dataframe tbody tr th:only-of-type {\n",
       "        vertical-align: middle;\n",
       "    }\n",
       "\n",
       "    .dataframe tbody tr th {\n",
       "        vertical-align: top;\n",
       "    }\n",
       "\n",
       "    .dataframe thead th {\n",
       "        text-align: right;\n",
       "    }\n",
       "</style>\n",
       "<table border=\"1\" class=\"dataframe\">\n",
       "  <thead>\n",
       "    <tr style=\"text-align: right;\">\n",
       "      <th></th>\n",
       "      <th>is_viewed</th>\n",
       "      <th>prediction</th>\n",
       "    </tr>\n",
       "  </thead>\n",
       "  <tbody>\n",
       "    <tr>\n",
       "      <th>3733486</th>\n",
       "      <td>1</td>\n",
       "      <td>0.417374</td>\n",
       "    </tr>\n",
       "    <tr>\n",
       "      <th>654306</th>\n",
       "      <td>1</td>\n",
       "      <td>0.003195</td>\n",
       "    </tr>\n",
       "    <tr>\n",
       "      <th>4258030</th>\n",
       "      <td>1</td>\n",
       "      <td>0.998864</td>\n",
       "    </tr>\n",
       "    <tr>\n",
       "      <th>1891715</th>\n",
       "      <td>1</td>\n",
       "      <td>0.999053</td>\n",
       "    </tr>\n",
       "    <tr>\n",
       "      <th>315993</th>\n",
       "      <td>1</td>\n",
       "      <td>0.007917</td>\n",
       "    </tr>\n",
       "    <tr>\n",
       "      <th>...</th>\n",
       "      <td>...</td>\n",
       "      <td>...</td>\n",
       "    </tr>\n",
       "    <tr>\n",
       "      <th>1109203</th>\n",
       "      <td>1</td>\n",
       "      <td>0.090159</td>\n",
       "    </tr>\n",
       "    <tr>\n",
       "      <th>2064472</th>\n",
       "      <td>1</td>\n",
       "      <td>0.997323</td>\n",
       "    </tr>\n",
       "    <tr>\n",
       "      <th>800960</th>\n",
       "      <td>1</td>\n",
       "      <td>0.000650</td>\n",
       "    </tr>\n",
       "    <tr>\n",
       "      <th>584112</th>\n",
       "      <td>1</td>\n",
       "      <td>0.000017</td>\n",
       "    </tr>\n",
       "    <tr>\n",
       "      <th>3132444</th>\n",
       "      <td>1</td>\n",
       "      <td>0.754571</td>\n",
       "    </tr>\n",
       "  </tbody>\n",
       "</table>\n",
       "<p>17468 rows × 2 columns</p>\n",
       "</div>\n",
       "      <button class=\"colab-df-convert\" onclick=\"convertToInteractive('df-2624ef5c-447d-4890-9d10-b007f57d997c')\"\n",
       "              title=\"Convert this dataframe to an interactive table.\"\n",
       "              style=\"display:none;\">\n",
       "        \n",
       "  <svg xmlns=\"http://www.w3.org/2000/svg\" height=\"24px\"viewBox=\"0 0 24 24\"\n",
       "       width=\"24px\">\n",
       "    <path d=\"M0 0h24v24H0V0z\" fill=\"none\"/>\n",
       "    <path d=\"M18.56 5.44l.94 2.06.94-2.06 2.06-.94-2.06-.94-.94-2.06-.94 2.06-2.06.94zm-11 1L8.5 8.5l.94-2.06 2.06-.94-2.06-.94L8.5 2.5l-.94 2.06-2.06.94zm10 10l.94 2.06.94-2.06 2.06-.94-2.06-.94-.94-2.06-.94 2.06-2.06.94z\"/><path d=\"M17.41 7.96l-1.37-1.37c-.4-.4-.92-.59-1.43-.59-.52 0-1.04.2-1.43.59L10.3 9.45l-7.72 7.72c-.78.78-.78 2.05 0 2.83L4 21.41c.39.39.9.59 1.41.59.51 0 1.02-.2 1.41-.59l7.78-7.78 2.81-2.81c.8-.78.8-2.07 0-2.86zM5.41 20L4 18.59l7.72-7.72 1.47 1.35L5.41 20z\"/>\n",
       "  </svg>\n",
       "      </button>\n",
       "      \n",
       "  <style>\n",
       "    .colab-df-container {\n",
       "      display:flex;\n",
       "      flex-wrap:wrap;\n",
       "      gap: 12px;\n",
       "    }\n",
       "\n",
       "    .colab-df-convert {\n",
       "      background-color: #E8F0FE;\n",
       "      border: none;\n",
       "      border-radius: 50%;\n",
       "      cursor: pointer;\n",
       "      display: none;\n",
       "      fill: #1967D2;\n",
       "      height: 32px;\n",
       "      padding: 0 0 0 0;\n",
       "      width: 32px;\n",
       "    }\n",
       "\n",
       "    .colab-df-convert:hover {\n",
       "      background-color: #E2EBFA;\n",
       "      box-shadow: 0px 1px 2px rgba(60, 64, 67, 0.3), 0px 1px 3px 1px rgba(60, 64, 67, 0.15);\n",
       "      fill: #174EA6;\n",
       "    }\n",
       "\n",
       "    [theme=dark] .colab-df-convert {\n",
       "      background-color: #3B4455;\n",
       "      fill: #D2E3FC;\n",
       "    }\n",
       "\n",
       "    [theme=dark] .colab-df-convert:hover {\n",
       "      background-color: #434B5C;\n",
       "      box-shadow: 0px 1px 3px 1px rgba(0, 0, 0, 0.15);\n",
       "      filter: drop-shadow(0px 1px 2px rgba(0, 0, 0, 0.3));\n",
       "      fill: #FFFFFF;\n",
       "    }\n",
       "  </style>\n",
       "\n",
       "      <script>\n",
       "        const buttonEl =\n",
       "          document.querySelector('#df-2624ef5c-447d-4890-9d10-b007f57d997c button.colab-df-convert');\n",
       "        buttonEl.style.display =\n",
       "          google.colab.kernel.accessAllowed ? 'block' : 'none';\n",
       "\n",
       "        async function convertToInteractive(key) {\n",
       "          const element = document.querySelector('#df-2624ef5c-447d-4890-9d10-b007f57d997c');\n",
       "          const dataTable =\n",
       "            await google.colab.kernel.invokeFunction('convertToInteractive',\n",
       "                                                     [key], {});\n",
       "          if (!dataTable) return;\n",
       "\n",
       "          const docLinkHtml = 'Like what you see? Visit the ' +\n",
       "            '<a target=\"_blank\" href=https://colab.research.google.com/notebooks/data_table.ipynb>data table notebook</a>'\n",
       "            + ' to learn more about interactive tables.';\n",
       "          element.innerHTML = '';\n",
       "          dataTable['output_type'] = 'display_data';\n",
       "          await google.colab.output.renderOutput(dataTable, element);\n",
       "          const docLink = document.createElement('div');\n",
       "          docLink.innerHTML = docLinkHtml;\n",
       "          element.appendChild(docLink);\n",
       "        }\n",
       "      </script>\n",
       "    </div>\n",
       "  </div>\n",
       "  "
      ],
      "text/plain": [
       "         is_viewed  prediction\n",
       "3733486          1    0.417374\n",
       "654306           1    0.003195\n",
       "4258030          1    0.998864\n",
       "1891715          1    0.999053\n",
       "315993           1    0.007917\n",
       "...            ...         ...\n",
       "1109203          1    0.090159\n",
       "2064472          1    0.997323\n",
       "800960           1    0.000650\n",
       "584112           1    0.000017\n",
       "3132444          1    0.754571\n",
       "\n",
       "[17468 rows x 2 columns]"
      ]
     },
     "execution_count": 29,
     "metadata": {},
     "output_type": "execute_result"
    }
   ],
   "source": [
    "test_data[test_data.is_viewed == 1][['is_viewed', 'prediction']]"
   ]
  },
  {
   "cell_type": "code",
   "execution_count": null,
   "metadata": {
    "id": "x8J56IypYNb4"
   },
   "outputs": [],
   "source": [
    "test_data.to_parquet(rootpath + 'predicted_result')"
   ]
  },
  {
   "cell_type": "code",
   "execution_count": 30,
   "metadata": {
    "executionInfo": {
     "elapsed": 1005,
     "status": "ok",
     "timestamp": 1687683559778,
     "user": {
      "displayName": "Tae Oh Kim",
      "userId": "13246201434683004107"
     },
     "user_tz": -540
    },
    "id": "b42dto1AFsL7"
   },
   "outputs": [],
   "source": [
    "from sklearn.calibration import calibration_curve\n",
    "import matplotlib.pyplot as plt"
   ]
  },
  {
   "cell_type": "code",
   "execution_count": 31,
   "metadata": {
    "colab": {
     "base_uri": "https://localhost:8080/"
    },
    "executionInfo": {
     "elapsed": 3,
     "status": "ok",
     "timestamp": 1687683561846,
     "user": {
      "displayName": "Tae Oh Kim",
      "userId": "13246201434683004107"
     },
     "user_tz": -540
    },
    "id": "KjJY5fYEYm1X",
    "outputId": "cc2350c1-9773-4cb7-bf5f-0872b4b903fd"
   },
   "outputs": [
    {
     "data": {
      "text/plain": [
       "array([1, 0, 0, ..., 1, 0, 0])"
      ]
     },
     "execution_count": 31,
     "metadata": {},
     "output_type": "execute_result"
    }
   ],
   "source": [
    "test_data['is_viewed'].to_numpy()"
   ]
  },
  {
   "cell_type": "code",
   "execution_count": 32,
   "metadata": {
    "colab": {
     "base_uri": "https://localhost:8080/"
    },
    "executionInfo": {
     "elapsed": 3,
     "status": "ok",
     "timestamp": 1687683564030,
     "user": {
      "displayName": "Tae Oh Kim",
      "userId": "13246201434683004107"
     },
     "user_tz": -540
    },
    "id": "spTha9j9Y3U0",
    "outputId": "546ba308-d9fc-4c7c-b27e-9f5e6b0ca833"
   },
   "outputs": [
    {
     "data": {
      "text/plain": [
       "array([4.1737384e-01, 9.9969864e-01, 9.9379649e-06, ..., 7.5457090e-01,\n",
       "       7.7838880e-10, 7.0112603e-11], dtype=float32)"
      ]
     },
     "execution_count": 32,
     "metadata": {},
     "output_type": "execute_result"
    }
   ],
   "source": [
    "test_data['prediction'].to_numpy()"
   ]
  },
  {
   "cell_type": "code",
   "execution_count": 35,
   "metadata": {
    "executionInfo": {
     "elapsed": 2,
     "status": "ok",
     "timestamp": 1687683576349,
     "user": {
      "displayName": "Tae Oh Kim",
      "userId": "13246201434683004107"
     },
     "user_tz": -540
    },
    "id": "qNuq60jJGhRs"
   },
   "outputs": [],
   "source": [
    "fraction_of_positives, mean_predicted_value = calibration_curve(\n",
    "    test_data['is_viewed'].to_numpy(),\n",
    "    test_data['prediction'].to_numpy(), n_bins=40)"
   ]
  },
  {
   "cell_type": "code",
   "execution_count": null,
   "metadata": {
    "colab": {
     "base_uri": "https://localhost:8080/",
     "height": 449
    },
    "executionInfo": {
     "elapsed": 938,
     "status": "ok",
     "timestamp": 1687683578345,
     "user": {
      "displayName": "Tae Oh Kim",
      "userId": "13246201434683004107"
     },
     "user_tz": -540
    },
    "id": "dx9RH9kDHbgh",
    "outputId": "a74b44c6-8327-4b7d-b38a-6dd89ae44903"
   },
   "outputs": [
    {
     "data": {
      "image/png": "[encoded data removed]",
      "text/plain": [
       "<Figure size 640x480 with 1 Axes>"
      ]
     },
     "metadata": {},
     "output_type": "display_data"
    }
   ],
   "source": [
    "plt.plot(mean_predicted_value, fraction_of_positives, 's-')\n",
    "plt.plot([0, 1], [0, 1], '--', color='gray')  \n",
    "plt.xlabel('Mean Predicted Value')\n",
    "plt.ylabel('Fraction of Positives')\n",
    "plt.show()"
   ]
  },
  {
   "cell_type": "markdown",
   "metadata": {
    "id": "RjM7qvc0Ibjf"
   },
   "source": [
    "![image.png](data:image/png;base64,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)"
   ]
  },
  {
   "cell_type": "code",
   "execution_count": 37,
   "metadata": {
    "executionInfo": {
     "elapsed": 465,
     "status": "ok",
     "timestamp": 1687683627133,
     "user": {
      "displayName": "Tae Oh Kim",
      "userId": "13246201434683004107"
     },
     "user_tz": -540
    },
    "id": "eVCdh3eXHd_R"
   },
   "outputs": [],
   "source": [
    "test_data['calibration'] = (test_data['prediction'] / (test_data['prediction'] + ((1- test_data['prediction']) / 0.5)))"
   ]
  },
  {
   "cell_type": "code",
   "execution_count": 38,
   "metadata": {
    "colab": {
     "base_uri": "https://localhost:8080/",
     "height": 424
    },
    "executionInfo": {
     "elapsed": 9,
     "status": "ok",
     "timestamp": 1687683629336,
     "user": {
      "displayName": "Tae Oh Kim",
      "userId": "13246201434683004107"
     },
     "user_tz": -540
    },
    "id": "wqSpHiErIwPv",
    "outputId": "c2142cd4-a99e-47b2-8f9b-d809f2957f83"
   },
   "outputs": [
    {
     "data": {
      "text/html": [
       "\n",
       "  <div id=\"df-31860798-664d-4f95-81f1-57eba42a53ed\">\n",
       "    <div class=\"colab-df-container\">\n",
       "      <div>\n",
       "<style scoped>\n",
       "    .dataframe tbody tr th:only-of-type {\n",
       "        vertical-align: middle;\n",
       "    }\n",
       "\n",
       "    .dataframe tbody tr th {\n",
       "        vertical-align: top;\n",
       "    }\n",
       "\n",
       "    .dataframe thead th {\n",
       "        text-align: right;\n",
       "    }\n",
       "</style>\n",
       "<table border=\"1\" class=\"dataframe\">\n",
       "  <thead>\n",
       "    <tr style=\"text-align: right;\">\n",
       "      <th></th>\n",
       "      <th>is_viewed</th>\n",
       "      <th>prediction</th>\n",
       "      <th>calibration</th>\n",
       "    </tr>\n",
       "  </thead>\n",
       "  <tbody>\n",
       "    <tr>\n",
       "      <th>3733486</th>\n",
       "      <td>1</td>\n",
       "      <td>4.173738e-01</td>\n",
       "      <td>2.637223e-01</td>\n",
       "    </tr>\n",
       "    <tr>\n",
       "      <th>864661</th>\n",
       "      <td>0</td>\n",
       "      <td>9.996986e-01</td>\n",
       "      <td>9.993975e-01</td>\n",
       "    </tr>\n",
       "    <tr>\n",
       "      <th>1297676</th>\n",
       "      <td>0</td>\n",
       "      <td>9.937965e-06</td>\n",
       "      <td>4.969007e-06</td>\n",
       "    </tr>\n",
       "    <tr>\n",
       "      <th>1316694</th>\n",
       "      <td>0</td>\n",
       "      <td>1.622916e-06</td>\n",
       "      <td>8.114586e-07</td>\n",
       "    </tr>\n",
       "    <tr>\n",
       "      <th>4430835</th>\n",
       "      <td>0</td>\n",
       "      <td>7.937362e-26</td>\n",
       "      <td>3.968681e-26</td>\n",
       "    </tr>\n",
       "    <tr>\n",
       "      <th>...</th>\n",
       "      <td>...</td>\n",
       "      <td>...</td>\n",
       "      <td>...</td>\n",
       "    </tr>\n",
       "    <tr>\n",
       "      <th>1802352</th>\n",
       "      <td>0</td>\n",
       "      <td>9.993236e-01</td>\n",
       "      <td>9.986481e-01</td>\n",
       "    </tr>\n",
       "    <tr>\n",
       "      <th>584112</th>\n",
       "      <td>1</td>\n",
       "      <td>1.692522e-05</td>\n",
       "      <td>8.462684e-06</td>\n",
       "    </tr>\n",
       "    <tr>\n",
       "      <th>3132444</th>\n",
       "      <td>1</td>\n",
       "      <td>7.545709e-01</td>\n",
       "      <td>6.058723e-01</td>\n",
       "    </tr>\n",
       "    <tr>\n",
       "      <th>1367326</th>\n",
       "      <td>0</td>\n",
       "      <td>7.783888e-10</td>\n",
       "      <td>3.891944e-10</td>\n",
       "    </tr>\n",
       "    <tr>\n",
       "      <th>1077209</th>\n",
       "      <td>0</td>\n",
       "      <td>7.011260e-11</td>\n",
       "      <td>3.505630e-11</td>\n",
       "    </tr>\n",
       "  </tbody>\n",
       "</table>\n",
       "<p>49236 rows × 3 columns</p>\n",
       "</div>\n",
       "      <button class=\"colab-df-convert\" onclick=\"convertToInteractive('df-31860798-664d-4f95-81f1-57eba42a53ed')\"\n",
       "              title=\"Convert this dataframe to an interactive table.\"\n",
       "              style=\"display:none;\">\n",
       "        \n",
       "  <svg xmlns=\"http://www.w3.org/2000/svg\" height=\"24px\"viewBox=\"0 0 24 24\"\n",
       "       width=\"24px\">\n",
       "    <path d=\"M0 0h24v24H0V0z\" fill=\"none\"/>\n",
       "    <path d=\"M18.56 5.44l.94 2.06.94-2.06 2.06-.94-2.06-.94-.94-2.06-.94 2.06-2.06.94zm-11 1L8.5 8.5l.94-2.06 2.06-.94-2.06-.94L8.5 2.5l-.94 2.06-2.06.94zm10 10l.94 2.06.94-2.06 2.06-.94-2.06-.94-.94-2.06-.94 2.06-2.06.94z\"/><path d=\"M17.41 7.96l-1.37-1.37c-.4-.4-.92-.59-1.43-.59-.52 0-1.04.2-1.43.59L10.3 9.45l-7.72 7.72c-.78.78-.78 2.05 0 2.83L4 21.41c.39.39.9.59 1.41.59.51 0 1.02-.2 1.41-.59l7.78-7.78 2.81-2.81c.8-.78.8-2.07 0-2.86zM5.41 20L4 18.59l7.72-7.72 1.47 1.35L5.41 20z\"/>\n",
       "  </svg>\n",
       "      </button>\n",
       "      \n",
       "  <style>\n",
       "    .colab-df-container {\n",
       "      display:flex;\n",
       "      flex-wrap:wrap;\n",
       "      gap: 12px;\n",
       "    }\n",
       "\n",
       "    .colab-df-convert {\n",
       "      background-color: #E8F0FE;\n",
       "      border: none;\n",
       "      border-radius: 50%;\n",
       "      cursor: pointer;\n",
       "      display: none;\n",
       "      fill: #1967D2;\n",
       "      height: 32px;\n",
       "      padding: 0 0 0 0;\n",
       "      width: 32px;\n",
       "    }\n",
       "\n",
       "    .colab-df-convert:hover {\n",
       "      background-color: #E2EBFA;\n",
       "      box-shadow: 0px 1px 2px rgba(60, 64, 67, 0.3), 0px 1px 3px 1px rgba(60, 64, 67, 0.15);\n",
       "      fill: #174EA6;\n",
       "    }\n",
       "\n",
       "    [theme=dark] .colab-df-convert {\n",
       "      background-color: #3B4455;\n",
       "      fill: #D2E3FC;\n",
       "    }\n",
       "\n",
       "    [theme=dark] .colab-df-convert:hover {\n",
       "      background-color: #434B5C;\n",
       "      box-shadow: 0px 1px 3px 1px rgba(0, 0, 0, 0.15);\n",
       "      filter: drop-shadow(0px 1px 2px rgba(0, 0, 0, 0.3));\n",
       "      fill: #FFFFFF;\n",
       "    }\n",
       "  </style>\n",
       "\n",
       "      <script>\n",
       "        const buttonEl =\n",
       "          document.querySelector('#df-31860798-664d-4f95-81f1-57eba42a53ed button.colab-df-convert');\n",
       "        buttonEl.style.display =\n",
       "          google.colab.kernel.accessAllowed ? 'block' : 'none';\n",
       "\n",
       "        async function convertToInteractive(key) {\n",
       "          const element = document.querySelector('#df-31860798-664d-4f95-81f1-57eba42a53ed');\n",
       "          const dataTable =\n",
       "            await google.colab.kernel.invokeFunction('convertToInteractive',\n",
       "                                                     [key], {});\n",
       "          if (!dataTable) return;\n",
       "\n",
       "          const docLinkHtml = 'Like what you see? Visit the ' +\n",
       "            '<a target=\"_blank\" href=https://colab.research.google.com/notebooks/data_table.ipynb>data table notebook</a>'\n",
       "            + ' to learn more about interactive tables.';\n",
       "          element.innerHTML = '';\n",
       "          dataTable['output_type'] = 'display_data';\n",
       "          await google.colab.output.renderOutput(dataTable, element);\n",
       "          const docLink = document.createElement('div');\n",
       "          docLink.innerHTML = docLinkHtml;\n",
       "          element.appendChild(docLink);\n",
       "        }\n",
       "      </script>\n",
       "    </div>\n",
       "  </div>\n",
       "  "
      ],
      "text/plain": [
       "         is_viewed    prediction   calibration\n",
       "3733486          1  4.173738e-01  2.637223e-01\n",
       "864661           0  9.996986e-01  9.993975e-01\n",
       "1297676          0  9.937965e-06  4.969007e-06\n",
       "1316694          0  1.622916e-06  8.114586e-07\n",
       "4430835          0  7.937362e-26  3.968681e-26\n",
       "...            ...           ...           ...\n",
       "1802352          0  9.993236e-01  9.986481e-01\n",
       "584112           1  1.692522e-05  8.462684e-06\n",
       "3132444          1  7.545709e-01  6.058723e-01\n",
       "1367326          0  7.783888e-10  3.891944e-10\n",
       "1077209          0  7.011260e-11  3.505630e-11\n",
       "\n",
       "[49236 rows x 3 columns]"
      ]
     },
     "execution_count": 38,
     "metadata": {},
     "output_type": "execute_result"
    }
   ],
   "source": [
    "test_data[['is_viewed', 'prediction', 'calibration']]"
   ]
  },
  {
   "cell_type": "code",
   "execution_count": 41,
   "metadata": {
    "executionInfo": {
     "elapsed": 2,
     "status": "ok",
     "timestamp": 1687683695489,
     "user": {
      "displayName": "Tae Oh Kim",
      "userId": "13246201434683004107"
     },
     "user_tz": -540
    },
    "id": "gH1DBki5I-6F"
   },
   "outputs": [],
   "source": [
    "fraction_of_positives2, mean_predicted_value2 = calibration_curve(test_data['is_viewed'], test_data['calibration'], n_bins=40)"
   ]
  },
  {
   "cell_type": "code",
   "execution_count": null,
   "metadata": {
    "colab": {
     "base_uri": "https://localhost:8080/",
     "height": 449
    },
    "executionInfo": {
     "elapsed": 680,
     "status": "ok",
     "timestamp": 1687683697187,
     "user": {
      "displayName": "Tae Oh Kim",
      "userId": "13246201434683004107"
     },
     "user_tz": -540
    },
    "id": "WQ3TPB3rSCtS",
    "outputId": "a55b06f9-c12b-47e8-f9d6-57a7ff26c659"
   },
   "outputs": [
    {
     "data": {
      "image/png": "[encoded data removed]",
      "text/plain": [
       "<Figure size 640x480 with 1 Axes>"
      ]
     },
     "metadata": {},
     "output_type": "display_data"
    }
   ],
   "source": [
    "plt.plot(mean_predicted_value, fraction_of_positives, 's-', label='original')\n",
    "plt.plot(mean_predicted_value2, fraction_of_positives2, 's-', label='calibrated')\n",
    "\n",
    "plt.plot([0, 1], [0, 1], '--', color='gray')  \n",
    "plt.xlabel('Mean Predicted Value')\n",
    "plt.ylabel('Fraction of Positives')\n",
    "plt.legend()\n",
    "plt.show()"
   ]
  }
 ],
 "metadata": {
  "accelerator": "GPU",
  "colab": {
   "authorship_tag": "ABX9TyNlTR0FKg27x7YSsRGZCTxg",
   "gpuType": "T4",
   "provenance": [
    {
     "file_id": "1jFYuDPVZO0pzzmmDcqakV3HLaRn4jRC-",
     "timestamp": 1686230319746
    }
   ]
  },
  "kernelspec": {
   "display_name": "Python 3",
   "name": "python3"
  },
  "language_info": {
   "name": "python"
  }
 },
 "nbformat": 4,
 "nbformat_minor": 0
}
